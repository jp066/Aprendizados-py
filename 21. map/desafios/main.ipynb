{
 "cells": [
  {
   "cell_type": "markdown",
   "metadata": {},
   "source": [
    "1. Quadrado dos Números:\n",
    "Dada uma lista de números inteiros, use map para retornar uma nova lista contendo o quadrado de cada número."
   ]
  },
  {
   "cell_type": "code",
   "execution_count": 1,
   "metadata": {},
   "outputs": [
    {
     "data": {
      "text/plain": [
       "[0, 1, 4, 9, 16, 25, 36]"
      ]
     },
     "execution_count": 1,
     "metadata": {},
     "output_type": "execute_result"
    }
   ],
   "source": [
    "def quadrado(x):\n",
    "    return x**2\n",
    "\n",
    "lista = [0,1,2,3,4,5,6]\n",
    "numeros = map(quadrado, lista)\n",
    "list(numeros)"
   ]
  },
  {
   "cell_type": "markdown",
   "metadata": {},
   "source": [
    "2. Converter para String:\n",
    "Dada uma lista de números, use map para convertê-los em strings."
   ]
  },
  {
   "cell_type": "code",
   "execution_count": 2,
   "metadata": {},
   "outputs": [
    {
     "data": {
      "text/plain": [
       "['0', '1', '2', '3', '4', '5', '6']"
      ]
     },
     "execution_count": 2,
     "metadata": {},
     "output_type": "execute_result"
    }
   ],
   "source": [
    "def num_to_string(num):\n",
    "    return str(num)\n",
    "\n",
    "lista2 = [0,1,2,3,4,5,6]\n",
    "numeros2 = map(num_to_string, lista2)\n",
    "list(numeros2)\n"
   ]
  },
  {
   "cell_type": "markdown",
   "metadata": {},
   "source": [
    "3. Dobrar Valores:\n",
    "Dada uma lista de preços, use map para criar uma nova lista onde cada preço seja dobrado."
   ]
  },
  {
   "cell_type": "code",
   "execution_count": 3,
   "metadata": {},
   "outputs": [
    {
     "data": {
      "text/plain": [
       "[40, 100, 20, 130]"
      ]
     },
     "execution_count": 3,
     "metadata": {},
     "output_type": "execute_result"
    }
   ],
   "source": [
    "def dobrar_valores(precos):\n",
    "    return precos * 2\n",
    "\n",
    "lista3 = [20,50,10,65]\n",
    "resultados = map(dobrar_valores, lista3)\n",
    "list(resultados)"
   ]
  },
  {
   "cell_type": "markdown",
   "metadata": {},
   "source": [
    "4. Tamanhos das Palavras:\n",
    "Dada uma lista de palavras, use map para retornar uma lista com o comprimento de cada palavra.\n"
   ]
  },
  {
   "cell_type": "code",
   "execution_count": null,
   "metadata": {},
   "outputs": [
    {
     "name": "stdout",
     "output_type": "stream",
     "text": [
      "[' bola tem 4', ' cacto tem 5', ' egua tem 4', ' rabito tem 6']\n"
     ]
    }
   ],
   "source": [
    "def comprimento_palavras(palavras):\n",
    "    for p in palavras:\n",
    "        return f' {palavras} tem {len(palavras)}'\n",
    "    \n",
    "\n",
    "palavras = ['bola', 'cacto', 'egua', 'rabito']\n",
    "contagem = map(comprimento_palavras, palavras)\n",
    "list(contagem)"
   ]
  },
  {
   "cell_type": "markdown",
   "metadata": {},
   "source": [
    "5. Primeira Letra Maiúscula:\n",
    "Dada uma lista de nomes, use map para retornar uma nova lista com cada nome iniciando com letra maiúscula."
   ]
  },
  {
   "cell_type": "code",
   "execution_count": 21,
   "metadata": {},
   "outputs": [
    {
     "name": "stdout",
     "output_type": "stream",
     "text": [
      "apenas Claudio\n",
      "apenas Vini\n"
     ]
    }
   ],
   "source": [
    "from re import fullmatch as m\n",
    "\n",
    "def verifica_nome(nome):\n",
    "    regex = r'^[A-Z][a-z]*$'\n",
    "    if m(regex, nome):\n",
    "        return f'apenas {nome}'\n",
    "    else:\n",
    "        return f'favor atualize a inicial para maiúscula {nome}'\n",
    "\n",
    "nomes = ['Claudio', 'Vini']\n",
    "resultadosN = map(verifica_nome, nomes)\n",
    "for resultado in resultadosN:\n",
    "    print(resultado)"
   ]
  },
  {
   "cell_type": "markdown",
   "metadata": {},
   "source": [
    "6. Converter Temperaturas:\n",
    "Dada uma lista de temperaturas em Celsius, use map para convertê-las para Fahrenheit."
   ]
  },
  {
   "cell_type": "code",
   "execution_count": 1,
   "metadata": {},
   "outputs": [
    {
     "name": "stdout",
     "output_type": "stream",
     "text": [
      "68.0\n",
      "59.0\n",
      "77.0\n",
      "50.0\n"
     ]
    }
   ],
   "source": [
    "def convert_temp(temperaturas):\n",
    "    return (temperaturas * 9/5) + 32\n",
    "        \n",
    "        \n",
    "temperaturas = [20,15,25,10]\n",
    "mudancas = map(convert_temp, temperaturas)\n",
    "for mudanca in mudancas:\n",
    "    print(mudanca)"
   ]
  },
  {
   "cell_type": "markdown",
   "metadata": {},
   "source": [
    "7. Multiplicação de Listas:\n",
    "Dadas duas listas do mesmo tamanho, use map para retornar uma nova lista onde cada elemento seja o produto dos números correspondentes nas duas listas."
   ]
  },
  {
   "cell_type": "code",
   "execution_count": 10,
   "metadata": {},
   "outputs": [
    {
     "name": "stdout",
     "output_type": "stream",
     "text": [
      "o resultado de é 10\n",
      "o resultado de é 12\n",
      "o resultado de é 12\n",
      "o resultado de é 10\n"
     ]
    }
   ],
   "source": [
    "def mult_lists(a,b):\n",
    "    return a * b\n",
    "\n",
    "lista1 = [2,3,4,5]\n",
    "lista2 = [5,4,3,2]\n",
    "resultados = map(mult_lists, lista1, lista2)\n",
    "for resultado in resultados:\n",
    "    print(f'o resultado de é {resultado}')\n",
    "    \n",
    "\n",
    "# list compression: [saida for itens condição]"
   ]
  },
  {
   "cell_type": "markdown",
   "metadata": {},
   "source": [
    "8. Remover Espaços em Branco:\n",
    "Dada uma lista de strings contendo espaços extras no início e no fim, use map para retornar uma nova lista com os espaços removidos.\n",
    "\n"
   ]
  },
  {
   "cell_type": "code",
   "execution_count": null,
   "metadata": {},
   "outputs": [
    {
     "name": "stdout",
     "output_type": "stream",
     "text": [
      " cachorro \n",
      " sem \n",
      "  \n",
      " vergonha\n",
      "cachorro\n",
      "sem\n",
      "\n",
      "vergonha\n"
     ]
    }
   ],
   "source": [
    "def strings_espacos(strings):\n",
    "    return strings.strip()\n",
    "\n",
    "\n",
    "strings = [' cachorro ', ' sem ', '  ', ' vergonha']\n",
    "resultados = map(strings_espacos, strings)\n",
    "for i in resultados:\n",
    "    print(i)"
   ]
  },
  {
   "cell_type": "markdown",
   "metadata": {},
   "source": [
    "9. Filtrar Números Pares (com map):\n",
    "Embora map não seja a melhor escolha para filtragem, tente utilizá-lo para retornar uma lista com \"Par\" para números pares e \"Ímpar\" para números ímpares em uma lista de inteiros."
   ]
  },
  {
   "cell_type": "code",
   "execution_count": 19,
   "metadata": {},
   "outputs": [
    {
     "name": "stdout",
     "output_type": "stream",
     "text": [
      "10 é par\n",
      "12 é par\n",
      "8 é par\n",
      "24 é par\n",
      "5 é impar\n",
      "7 é impar\n",
      "9 é impar\n"
     ]
    }
   ],
   "source": [
    "def filtro_pares(numeros):\n",
    "    if numeros % 2:\n",
    "        return f'{numeros} é impar'\n",
    "    else:\n",
    "        return f'{numeros} é par'\n",
    "\n",
    "\n",
    "numeros = [10,12,8,24,5,7,9]\n",
    "resultados = map(filtro_pares, numeros)\n",
    "for i in resultados:\n",
    "    print(i)"
   ]
  },
  {
   "cell_type": "markdown",
   "metadata": {},
   "source": [
    "10. Soma dos Dígitos:\n",
    "Dada uma lista de números inteiros, use map para retornar uma lista onde cada elemento é a soma dos dígitos do número original."
   ]
  },
  {
   "cell_type": "code",
   "execution_count": 20,
   "metadata": {},
   "outputs": [
    {
     "name": "stdout",
     "output_type": "stream",
     "text": [
      "[6, 15, 24]\n"
     ]
    }
   ],
   "source": [
    "def soma_digitos(num_inteiros):\n",
    "    return sum(int(digito) for digito in str(num_inteiros))\n",
    "\n",
    "numeros =  [123, 456,789]\n",
    "resultados = list(map(soma_digitos, numeros))\n",
    "print(resultados)"
   ]
  }
 ],
 "metadata": {
  "kernelspec": {
   "display_name": "Python 3",
   "language": "python",
   "name": "python3"
  },
  "language_info": {
   "codemirror_mode": {
    "name": "ipython",
    "version": 3
   },
   "file_extension": ".py",
   "mimetype": "text/x-python",
   "name": "python",
   "nbconvert_exporter": "python",
   "pygments_lexer": "ipython3",
   "version": "3.13.0"
  }
 },
 "nbformat": 4,
 "nbformat_minor": 2
}
