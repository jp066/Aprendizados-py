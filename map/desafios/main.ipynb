{
 "cells": [
  {
   "cell_type": "markdown",
   "metadata": {},
   "source": [
    "1. Quadrado dos Números:\n",
    "Dada uma lista de números inteiros, use map para retornar uma nova lista contendo o quadrado de cada número."
   ]
  },
  {
   "cell_type": "code",
   "execution_count": 1,
   "metadata": {},
   "outputs": [
    {
     "data": {
      "text/plain": [
       "[0, 1, 4, 9, 16, 25, 36]"
      ]
     },
     "execution_count": 1,
     "metadata": {},
     "output_type": "execute_result"
    }
   ],
   "source": [
    "def quadrado(x):\n",
    "    return x**2\n",
    "\n",
    "lista = [0,1,2,3,4,5,6]\n",
    "numeros = map(quadrado, lista)\n",
    "list(numeros)"
   ]
  },
  {
   "cell_type": "markdown",
   "metadata": {},
   "source": [
    "2. Converter para String:\n",
    "Dada uma lista de números, use map para convertê-los em strings."
   ]
  },
  {
   "cell_type": "code",
   "execution_count": 2,
   "metadata": {},
   "outputs": [
    {
     "data": {
      "text/plain": [
       "['0', '1', '2', '3', '4', '5', '6']"
      ]
     },
     "execution_count": 2,
     "metadata": {},
     "output_type": "execute_result"
    }
   ],
   "source": [
    "def num_to_string(num):\n",
    "    return str(num)\n",
    "\n",
    "lista2 = [0,1,2,3,4,5,6]\n",
    "numeros2 = map(num_to_string, lista2)\n",
    "list(numeros2)\n"
   ]
  },
  {
   "cell_type": "markdown",
   "metadata": {},
   "source": [
    "3. Dobrar Valores:\n",
    "Dada uma lista de preços, use map para criar uma nova lista onde cada preço seja dobrado."
   ]
  },
  {
   "cell_type": "code",
   "execution_count": 3,
   "metadata": {},
   "outputs": [
    {
     "data": {
      "text/plain": [
       "[40, 100, 20, 130]"
      ]
     },
     "execution_count": 3,
     "metadata": {},
     "output_type": "execute_result"
    }
   ],
   "source": [
    "def dobrar_valores(precos):\n",
    "    return precos * 2\n",
    "\n",
    "lista3 = [20,50,10,65]\n",
    "resultados = map(dobrar_valores, lista3)\n",
    "list(resultados)"
   ]
  },
  {
   "cell_type": "markdown",
   "metadata": {},
   "source": [
    "4. Tamanhos das Palavras:\n",
    "Dada uma lista de palavras, use map para retornar uma lista com o comprimento de cada palavra.\n"
   ]
  },
  {
   "cell_type": "code",
   "execution_count": null,
   "metadata": {},
   "outputs": [
    {
     "name": "stdout",
     "output_type": "stream",
     "text": [
      "[' bola tem 4', ' cacto tem 5', ' egua tem 4', ' rabito tem 6']\n"
     ]
    }
   ],
   "source": [
    "def comprimento_palavras(palavras):\n",
    "    for p in palavras:\n",
    "        return f' {palavras} tem {len(palavras)}'\n",
    "    \n",
    "\n",
    "palavras = ['bola', 'cacto', 'egua', 'rabito']\n",
    "contagem = map(comprimento_palavras, palavras)\n",
    "list(contagem)"
   ]
  },
  {
   "cell_type": "markdown",
   "metadata": {},
   "source": [
    "5. Primeira Letra Maiúscula:\n",
    "Dada uma lista de nomes, use map para retornar uma nova lista com cada nome iniciando com letra maiúscula."
   ]
  },
  {
   "cell_type": "code",
   "execution_count": 21,
   "metadata": {},
   "outputs": [
    {
     "name": "stdout",
     "output_type": "stream",
     "text": [
      "apenas Claudio\n",
      "apenas Vini\n"
     ]
    }
   ],
   "source": [
    "from re import fullmatch as m\n",
    "\n",
    "def verifica_nome(nome):\n",
    "    regex = r'^[A-Z][a-z]*$'\n",
    "    if m(regex, nome):\n",
    "        return f'apenas {nome}'\n",
    "    else:\n",
    "        return f'favor atualize a inicial para maiúscula {nome}'\n",
    "\n",
    "nomes = ['Claudio', 'Vini']\n",
    "resultadosN = map(verifica_nome, nomes)\n",
    "for resultado in resultadosN:\n",
    "    print(resultado)"
   ]
  }
 ],
 "metadata": {
  "kernelspec": {
   "display_name": "Python 3",
   "language": "python",
   "name": "python3"
  },
  "language_info": {
   "codemirror_mode": {
    "name": "ipython",
    "version": 3
   },
   "file_extension": ".py",
   "mimetype": "text/x-python",
   "name": "python",
   "nbconvert_exporter": "python",
   "pygments_lexer": "ipython3",
   "version": "3.13.0"
  }
 },
 "nbformat": 4,
 "nbformat_minor": 2
}
