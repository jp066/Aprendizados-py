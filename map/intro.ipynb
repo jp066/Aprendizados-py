{
 "cells": [
  {
   "cell_type": "markdown",
   "metadata": {},
   "source": [
    "Map\n",
    "- Aplica uma função a todos os itens de um iterável\n",
    "- é uma maneira eficiente e consisa de transformar dados.\n"
   ]
  },
  {
   "cell_type": "markdown",
   "metadata": {},
   "source": []
  }
 ],
 "metadata": {
  "language_info": {
   "name": "python"
  }
 },
 "nbformat": 4,
 "nbformat_minor": 2
}
