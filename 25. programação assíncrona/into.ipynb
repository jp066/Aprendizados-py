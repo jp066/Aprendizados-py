{
 "cells": [
  {
   "cell_type": "markdown",
   "metadata": {},
   "source": [
    "# Assincrona\n",
    "- executado de forma não bloqueante\n",
    "- execução de multiplas operações simultâneas.\n",
    "\n",
    "> usado com api´s"
   ]
  },
  {
   "cell_type": "code",
   "execution_count": 1,
   "metadata": {},
   "outputs": [],
   "source": [
    "import asyncio\n",
    "import aiohttp"
   ]
  },
  {
   "cell_type": "code",
   "execution_count": 7,
   "metadata": {},
   "outputs": [
    {
     "data": {
      "text/plain": [
       "<Task pending name='Task-5' coro=<main() running at C:\\Users\\joaop\\AppData\\Local\\Temp\\ipykernel_11320\\3073614412.py:7>>"
      ]
     },
     "execution_count": 7,
     "metadata": {},
     "output_type": "execute_result"
    },
    {
     "name": "stdout",
     "output_type": "stream",
     "text": [
      "tarefa buscando iniciada.\n",
      "tarefa filtrando cidade iniciada.\n",
      "tarefa buscando concluida.\n",
      "tarefa filtrando cidade concluida.\n"
     ]
    }
   ],
   "source": [
    "async def tarefa(nome, tempo): # async define um metodo assincrono\n",
    "    print(f'tarefa {nome} iniciada.')\n",
    "    await asyncio.sleep(tempo) # await é como um tempo de espera\n",
    "    print(f'tarefa {nome} concluida.')\n",
    "    \n",
    "    \n",
    "async def main():\n",
    "    await asyncio.gather( # função que permite executar várias corrotinas (funções assíncronas) de forma concorrente\n",
    "        tarefa('buscando', 1),\n",
    "        tarefa('filtrando cidade',2)\n",
    "    )\n",
    "    \n",
    "try:\n",
    "    asyncio.get_running_loop()\n",
    "except:\n",
    "    asyncio.run(main())\n",
    "    \n",
    "    \n",
    "asyncio.ensure_future(main())"
   ]
  },
  {
   "cell_type": "code",
   "execution_count": 12,
   "metadata": {},
   "outputs": [
    {
     "data": {
      "text/plain": [
       "<Task pending name='Task-8' coro=<main() running at C:\\Users\\joaop\\AppData\\Local\\Temp\\ipykernel_11320\\2014552961.py:8>>"
      ]
     },
     "execution_count": 12,
     "metadata": {},
     "output_type": "execute_result"
    },
    {
     "name": "stdout",
     "output_type": "stream",
     "text": [
      "{'id': 1, 'name': 'Leanne Graham', 'username': 'Bret', 'email': 'Sincere@april.biz', 'address': {'street': 'Kulas Light', 'suite': 'Apt. 556', 'city': 'Gwenborough', 'zipcode': '92998-3874', 'geo': {'lat': '-37.3159', 'lng': '81.1496'}}, 'phone': '1-770-736-8031 x56442', 'website': 'hildegard.org', 'company': {'name': 'Romaguera-Crona', 'catchPhrase': 'Multi-layered client-server neural-net', 'bs': 'harness real-time e-markets'}}\n",
      "{'id': 2, 'name': 'Ervin Howell', 'username': 'Antonette', 'email': 'Shanna@melissa.tv', 'address': {'street': 'Victor Plains', 'suite': 'Suite 879', 'city': 'Wisokyburgh', 'zipcode': '90566-7771', 'geo': {'lat': '-43.9509', 'lng': '-34.4618'}}, 'phone': '010-692-6593 x09125', 'website': 'anastasia.net', 'company': {'name': 'Deckow-Crist', 'catchPhrase': 'Proactive didactic contingency', 'bs': 'synergize scalable supply-chains'}}\n",
      "{'id': 3, 'name': 'Clementine Bauch', 'username': 'Samantha', 'email': 'Nathan@yesenia.net', 'address': {'street': 'Douglas Extension', 'suite': 'Suite 847', 'city': 'McKenziehaven', 'zipcode': '59590-4157', 'geo': {'lat': '-68.6102', 'lng': '-47.0653'}}, 'phone': '1-463-123-4447', 'website': 'ramiro.info', 'company': {'name': 'Romaguera-Jacobson', 'catchPhrase': 'Face to face bifurcated interface', 'bs': 'e-enable strategic applications'}}\n",
      "{'id': 4, 'name': 'Patricia Lebsack', 'username': 'Karianne', 'email': 'Julianne.OConner@kory.org', 'address': {'street': 'Hoeger Mall', 'suite': 'Apt. 692', 'city': 'South Elvis', 'zipcode': '53919-4257', 'geo': {'lat': '29.4572', 'lng': '-164.2990'}}, 'phone': '493-170-9623 x156', 'website': 'kale.biz', 'company': {'name': 'Robel-Corkery', 'catchPhrase': 'Multi-tiered zero tolerance productivity', 'bs': 'transition cutting-edge web services'}}\n",
      "{'id': 5, 'name': 'Chelsey Dietrich', 'username': 'Kamren', 'email': 'Lucio_Hettinger@annie.ca', 'address': {'street': 'Skiles Walks', 'suite': 'Suite 351', 'city': 'Roscoeview', 'zipcode': '33263', 'geo': {'lat': '-31.8129', 'lng': '62.5342'}}, 'phone': '(254)954-1289', 'website': 'demarco.info', 'company': {'name': 'Keebler LLC', 'catchPhrase': 'User-centric fault-tolerant solution', 'bs': 'revolutionize end-to-end systems'}}\n"
     ]
    }
   ],
   "source": [
    "async def buscar_usuario(session, usuario_id):\n",
    "    async with session.get(\n",
    "        f'https://jsonplaceholder.typicode.com/users/{usuario_id}'\n",
    "    ) as resposta:\n",
    "        return await resposta.json()\n",
    "            \n",
    "            \n",
    "async def main():\n",
    "    async with aiohttp.ClientSession() as session:\n",
    "        usuario_ids = [1,2,3,4,5]\n",
    "        tarefas = [buscar_usuario(session, uid) for uid in usuario_ids]\n",
    "        #agurdando conclusão das tarefas\n",
    "        usuarios = await asyncio.gather(*tarefas)\n",
    "        for usuario in usuarios:\n",
    "            print(usuario)\n",
    "        \n",
    "\n",
    "try:\n",
    "    asyncio.get_running_loop()\n",
    "except:\n",
    "    asyncio.run(main())\n",
    "    \n",
    "    \n",
    "asyncio.ensure_future(main())"
   ]
  },
  {
   "cell_type": "code",
   "execution_count": null,
   "metadata": {},
   "outputs": [],
   "source": []
  }
 ],
 "metadata": {
  "kernelspec": {
   "display_name": "Python 3",
   "language": "python",
   "name": "python3"
  },
  "language_info": {
   "codemirror_mode": {
    "name": "ipython",
    "version": 3
   },
   "file_extension": ".py",
   "mimetype": "text/x-python",
   "name": "python",
   "nbconvert_exporter": "python",
   "pygments_lexer": "ipython3",
   "version": "3.13.0"
  }
 },
 "nbformat": 4,
 "nbformat_minor": 2
}
