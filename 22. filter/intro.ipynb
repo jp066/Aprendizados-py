{
 "cells": [
  {
   "cell_type": "markdown",
   "metadata": {},
   "source": [
    "# Filter\n",
    "- é usada para filtrar elementos de um iterável com base em uma função que pode retornar True ou False.\n",
    "- O objetivo é permitir apenas os elementos que satisfazem uma condição.\n",
    "- sintaxe: filter(função, iterável)\n"
   ]
  },
  {
   "cell_type": "code",
   "execution_count": 1,
   "metadata": {},
   "outputs": [
    {
     "data": {
      "text/plain": [
       "[2, 4, 6]"
      ]
     },
     "execution_count": 1,
     "metadata": {},
     "output_type": "execute_result"
    }
   ],
   "source": [
    "def verificando_par(num):\n",
    "    return num % 2 == 0\n",
    "\n",
    "numeros = [1,2,3,4,5,6]\n",
    "numeros_pares = filter(verificando_par, numeros)\n",
    "list(numeros_pares)"
   ]
  },
  {
   "cell_type": "code",
   "execution_count": 7,
   "metadata": {},
   "outputs": [
    {
     "data": {
      "text/plain": [
       "[{'nome': 'Leite Condesado', 'preco': 10, 'estoque': True},\n",
       " {'nome': 'Suco', 'preco': 5, 'estoque': True}]"
      ]
     },
     "execution_count": 7,
     "metadata": {},
     "output_type": "execute_result"
    }
   ],
   "source": [
    "products = [\n",
    "    {\"nome\":\"Leite Condesado\", \"preco\":10, \"estoque\":True},\n",
    "    {\"nome\":\"Café\", \"preco\":15, \"estoque\":False},\n",
    "    {\"nome\":\"Suco\", \"preco\":5, \"estoque\":True},\n",
    "    {\"nome\":\"Chocolate\", \"preco\":20, \"estoque\":False}\n",
    "]\n",
    "\n",
    "def tem_estoque(produto):\n",
    "    return produto[\"estoque\"]\n",
    "\n",
    "\n",
    "produtos_disponiveis = filter(tem_estoque, products)\n",
    "list(produtos_disponiveis)"
   ]
  },
  {
   "cell_type": "code",
   "execution_count": 9,
   "metadata": {},
   "outputs": [
    {
     "data": {
      "text/plain": [
       "[-845.0, -700.0]"
      ]
     },
     "execution_count": 9,
     "metadata": {},
     "output_type": "execute_result"
    }
   ],
   "source": [
    "transacoes = [2000.0,150.0,-845.0,-700.0]\n",
    "\n",
    "def verificar_despesa(transacao):\n",
    "    return transacao < 0\n",
    "\n",
    "\n",
    "despesas = filter(verificar_despesa, transacoes)\n",
    "list(despesas)"
   ]
  }
 ],
 "metadata": {
  "kernelspec": {
   "display_name": "Python 3",
   "language": "python",
   "name": "python3"
  },
  "language_info": {
   "codemirror_mode": {
    "name": "ipython",
    "version": 3
   },
   "file_extension": ".py",
   "mimetype": "text/x-python",
   "name": "python",
   "nbconvert_exporter": "python",
   "pygments_lexer": "ipython3",
   "version": "3.13.0"
  }
 },
 "nbformat": 4,
 "nbformat_minor": 2
}
