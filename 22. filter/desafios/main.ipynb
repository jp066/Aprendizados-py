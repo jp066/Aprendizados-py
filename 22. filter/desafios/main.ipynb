{
 "cells": [
  {
   "cell_type": "markdown",
   "metadata": {},
   "source": [
    "1. Filtrar Números Pares:\n",
    "Dada uma lista de números inteiros, use filter para retornar uma nova lista contendo apenas os números pares."
   ]
  },
  {
   "cell_type": "code",
   "execution_count": 1,
   "metadata": {},
   "outputs": [
    {
     "data": {
      "text/plain": [
       "[2, 4, 8, 10, 14]"
      ]
     },
     "execution_count": 1,
     "metadata": {},
     "output_type": "execute_result"
    }
   ],
   "source": [
    "def num_pares(numeros):\n",
    "    return numeros % 2 == 0\n",
    "\n",
    "lista = [2,5,4,8,10,14,15]\n",
    "list(filter(num_pares, lista))"
   ]
  },
  {
   "cell_type": "markdown",
   "metadata": {},
   "source": [
    "2. Filtrar Palavras Longas:\n",
    "Dada uma lista de palavras, use filter para retornar uma nova lista contendo apenas as palavras com mais de 5 caracteres."
   ]
  },
  {
   "cell_type": "code",
   "execution_count": 2,
   "metadata": {},
   "outputs": [
    {
     "data": {
      "text/plain": [
       "['futebol', 'igreja', 'cristo']"
      ]
     },
     "execution_count": 2,
     "metadata": {},
     "output_type": "execute_result"
    }
   ],
   "source": [
    "def palavra_longas(palavras):\n",
    "    return len(palavras) > 5\n",
    "\n",
    "lista = ['futebol', 'casa', 'igreja', 'cristo']\n",
    "list(filter(palavra_longas, lista))"
   ]
  },
  {
   "cell_type": "markdown",
   "metadata": {},
   "source": [
    "3. Filtrar Números Positivos:\n",
    "Dada uma lista de números, use filter para retornar uma nova lista contendo apenas os números positivos."
   ]
  },
  {
   "cell_type": "code",
   "execution_count": 3,
   "metadata": {},
   "outputs": [
    {
     "data": {
      "text/plain": [
       "[15]"
      ]
     },
     "execution_count": 3,
     "metadata": {},
     "output_type": "execute_result"
    }
   ],
   "source": [
    "def num_positivos(nums):\n",
    "    return nums > 0\n",
    "\n",
    "lista = [-15,15]\n",
    "list(filter(num_positivos, lista))"
   ]
  },
  {
   "cell_type": "markdown",
   "metadata": {},
   "source": [
    "4. Filtrar Números Ímpares:\n",
    "Dada uma lista de números inteiros, use filter para retornar uma nova lista contendo apenas os números ímpares."
   ]
  },
  {
   "cell_type": "code",
   "execution_count": null,
   "metadata": {},
   "outputs": [
    {
     "data": {
      "text/plain": [
       "[5, 15, 7, 92098291081091]"
      ]
     },
     "execution_count": 7,
     "metadata": {},
     "output_type": "execute_result"
    }
   ],
   "source": [
    "def nums_impares(numeros):\n",
    "    return numeros % 2 == 1\n",
    "\n",
    "lista = [2,5,4,8,10,14,15,7]\n",
    "list(filter(nums_impares, lista))"
   ]
  },
  {
   "cell_type": "markdown",
   "metadata": {},
   "source": [
    "5. Filtrar Vogais:\n",
    "Dada uma lista de letras, use filter para retornar uma nova lista contendo apenas as vogais (a, e, i, o, u)."
   ]
  },
  {
   "cell_type": "code",
   "execution_count": 8,
   "metadata": {},
   "outputs": [
    {
     "data": {
      "text/plain": [
       "['a', 'e', 'i', 'o', 'u']"
      ]
     },
     "execution_count": 8,
     "metadata": {},
     "output_type": "execute_result"
    }
   ],
   "source": [
    "def filtrar_vogais(letras):\n",
    "    return letras in ['a','e','i','o','u']\n",
    "\n",
    "alfabeto = list('abcdefghijklmnopqrstuvwxyz')\n",
    "list(filter(filtrar_vogais, alfabeto))"
   ]
  },
  {
   "cell_type": "markdown",
   "metadata": {},
   "source": [
    "6. Filtrar Strings Não Vazias:\n",
    "Dada uma lista de strings, use filter para retornar uma nova lista contendo apenas as strings que não estão vazias."
   ]
  },
  {
   "cell_type": "code",
   "execution_count": 12,
   "metadata": {},
   "outputs": [
    {
     "data": {
      "text/plain": [
       "['caca', 'ola']"
      ]
     },
     "execution_count": 12,
     "metadata": {},
     "output_type": "execute_result"
    }
   ],
   "source": [
    "def filtrar_strings_nao_vazias(strings):\n",
    "    return len(strings.strip()) > 0\n",
    "\n",
    "\n",
    "lista = ['caca',' ','ola',' ']\n",
    "list(filter(filtrar_strings_nao_vazias, lista))"
   ]
  },
  {
   "cell_type": "markdown",
   "metadata": {},
   "source": [
    "7. Filtrar Idade Maior que 18:\n",
    "Dada uma lista de idades, use filter para retornar uma nova lista contendo apenas as idades maiores que 18."
   ]
  },
  {
   "cell_type": "code",
   "execution_count": 16,
   "metadata": {},
   "outputs": [
    {
     "data": {
      "text/plain": [
       "[18]"
      ]
     },
     "execution_count": 16,
     "metadata": {},
     "output_type": "execute_result"
    }
   ],
   "source": [
    "def maior_idade(idades):\n",
    "    return idades >= 18\n",
    "\n",
    "lista = [18,14]\n",
    "list(filter(maior_idade, lista))"
   ]
  },
  {
   "cell_type": "markdown",
   "metadata": {},
   "source": [
    "8. Filtrar Números Divisíveis por 3 ou 5:\n",
    "Dada uma lista de números inteiros, use filter para retornar uma nova lista contendo apenas os números divisíveis por 3 ou 5."
   ]
  },
  {
   "cell_type": "code",
   "execution_count": 18,
   "metadata": {},
   "outputs": [
    {
     "data": {
      "text/plain": [
       "[15, 5, 3, 6]"
      ]
     },
     "execution_count": 18,
     "metadata": {},
     "output_type": "execute_result"
    }
   ],
   "source": [
    "def div_por_5_ou_3(nums):\n",
    "    return nums % 5 == 0 or nums % 3 == 0\n",
    "\n",
    "\n",
    "lista = [15,5,3,6, 8]\n",
    "list(filter(div_por_5_ou_3, lista))"
   ]
  },
  {
   "cell_type": "markdown",
   "metadata": {},
   "source": [
    "9. Filtrar Palavras que Contêm a Letra 'a':\n",
    "Dada uma lista de palavras, use filter para retornar uma nova lista contendo apenas as palavras que contêm a letra 'a'."
   ]
  },
  {
   "cell_type": "code",
   "execution_count": 21,
   "metadata": {},
   "outputs": [
    {
     "data": {
      "text/plain": [
       "['arraia', 'ola']"
      ]
     },
     "execution_count": 21,
     "metadata": {},
     "output_type": "execute_result"
    }
   ],
   "source": [
    "def palavra_com_A(palavras):\n",
    "    return 'a' in palavras\n",
    "\n",
    "lista = ['arraia', 'ola', 'olho']\n",
    "list(filter(palavra_com_A, lista))"
   ]
  },
  {
   "cell_type": "markdown",
   "metadata": {},
   "source": [
    "10. Filtrar Strings com Comprimento Menor que 4:\n",
    "Dada uma lista de strings, use filter para retornar uma nova lista contendo apenas as strings com comprimento menor que 4."
   ]
  },
  {
   "cell_type": "code",
   "execution_count": 22,
   "metadata": {},
   "outputs": [
    {
     "data": {
      "text/plain": [
       "['ovo']"
      ]
     },
     "execution_count": 22,
     "metadata": {},
     "output_type": "execute_result"
    }
   ],
   "source": [
    "def strings_menor_que_4(strings):\n",
    "    return len(strings.strip()) < 4\n",
    "\n",
    "lista = ['arroz','ovo']\n",
    "list(filter(strings_menor_que_4, lista))"
   ]
  }
 ],
 "metadata": {
  "kernelspec": {
   "display_name": "Python 3",
   "language": "python",
   "name": "python3"
  },
  "language_info": {
   "codemirror_mode": {
    "name": "ipython",
    "version": 3
   },
   "file_extension": ".py",
   "mimetype": "text/x-python",
   "name": "python",
   "nbconvert_exporter": "python",
   "pygments_lexer": "ipython3",
   "version": "3.13.0"
  }
 },
 "nbformat": 4,
 "nbformat_minor": 2
}
