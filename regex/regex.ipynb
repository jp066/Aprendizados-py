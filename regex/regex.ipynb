{
 "cells": [
  {
   "cell_type": "code",
   "execution_count": 1,
   "metadata": {},
   "outputs": [],
   "source": [
    "import re"
   ]
  },
  {
   "cell_type": "code",
   "execution_count": 2,
   "metadata": {},
   "outputs": [],
   "source": [
    "def explorar_expressao_reg(texto):\n",
    "    padrao = r'\\bPython\\b' # \\b é um delimitador de palavra\n",
    "    if re.search(padrao, texto):\n",
    "        print('Encontrado!')\n",
    "    else:\n",
    "        print('Não encontrado!')"
   ]
  },
  {
   "cell_type": "code",
   "execution_count": 3,
   "metadata": {},
   "outputs": [
    {
     "name": "stdout",
     "output_type": "stream",
     "text": [
      "Encontrado!\n"
     ]
    }
   ],
   "source": [
    "texto_exemplo = 'Python é uma linguagem de programação'\n",
    "explorar_expressao_reg(texto_exemplo) # Encontrado!"
   ]
  },
  {
   "cell_type": "code",
   "execution_count": null,
   "metadata": {},
   "outputs": [],
   "source": [
    "# Regex, ou expressão regular, é uma sequência de caracteres que define um padrão de pesquisa. \n",
    "# É uma ferramenta usada para encontrar ou validar padrões de texto em uma frase, documento ou qualquer outra entrada de caractere\n",
    "\n"
   ]
  }
 ],
 "metadata": {
  "kernelspec": {
   "display_name": "Python 3",
   "language": "python",
   "name": "python3"
  },
  "language_info": {
   "codemirror_mode": {
    "name": "ipython",
    "version": 3
   },
   "file_extension": ".py",
   "mimetype": "text/x-python",
   "name": "python",
   "nbconvert_exporter": "python",
   "pygments_lexer": "ipython3",
   "version": "3.13.0"
  }
 },
 "nbformat": 4,
 "nbformat_minor": 2
}
