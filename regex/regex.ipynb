{
 "cells": [
  {
   "cell_type": "code",
   "execution_count": null,
   "metadata": {},
   "outputs": [],
   "source": [
    "from re import fullmatch as f # fullmatch - Tenta aplicar o padrão a toda a string, retornando \n",
    "# Um objeto de partida, ou nenhum se nenhuma correspondência foi encontrada.\n",
    "from re import compile as c # compile - cria um padrão\n",
    "from re import search as s # search - buscará somente até encontrar o primeiro\n"
   ]
  },
  {
   "cell_type": "code",
   "execution_count": null,
   "metadata": {},
   "outputs": [],
   "source": [
    "# Os caracteres especiais são:\n",
    "# \".\" Corresponde a qualquer caractere, exceto uma nova linha.\n",
    "# \"^\" Corresponde ao início da string.\n",
    "# \"$\" Corresponde ao final da string ou logo antes da nova linha no fim da string.\n",
    "# \"*\" Corresponde a 0 ou mais repetições (gananciosas) do re.\n",
    "# Ganancioso significa que ele corresponderá ao maior número possível de repetições.\n",
    "# \"+\" Corresponde a 1 ou mais repetições (gananciosas) do Re.\n",
    "# \"?\" Corresponde 0 ou 1 (ganancioso) do re.\n",
    "# *?,+?, ?? Versões não-gananciosas dos três caracteres especiais anteriores.\n",
    "# {m, n} corresponde de M a N repetições do re.\n",
    "# {m, n}?Versão não-gananciosas do exposto acima.\n",
    "# \"\\\\\" escapa de caracteres especiais ou sinaliza uma sequência especial.\n",
    "# [] Indica um conjunto de caracteres.\n",
    "# A \"^\" como o primeiro caractere indica um conjunto complementar.\n",
    "# \"|\"A | B, cria um re que corresponderá a A ou B.\n",
    "# (...) corresponde ao ER dentro dos parênteses.\n",
    "# O conteúdo pode ser recuperado ou correspondido posteriormente na string.\n",
    "# (? Ailmsux) As letras definem os sinalizadores correspondentes definidos abaixo.\n",
    "# (?: ...) Versão não agrupada de parênteses regulares.\n",
    "# (? P <name> ...) A substring correspondente pelo grupo é acessível pelo nome.\n",
    "# (? P = nome) corresponde ao texto correspondido anteriormente pelo grupo nomeado Nome.\n",
    "# (?#...) um comentário;ignorado.\n",
    "# (? = ...) corresponde se ... corresponde a seguir, mas não consome a string.\n",
    "# (?! ...) corresponde se ... não corresponde a seguir.\n",
    "# (? <= ...) corresponde se precedido por ... (deve ser o comprimento fixo).\n",
    "# (? <! ...) corresponde se não for precedido por ... (deve ser o comprimento fixo).\n",
    "# (? (id/nome) sim | não) corresponde ao padrão sim se o grupo com id/nome corresponde,\n",
    "# o (opcional) nenhum padrão de outra forma.\n",
    "# \n",
    "# As seqüências especiais consistem em \"\\\\\" e um caractere da lista\n",
    "# abaixo.Se o caractere comum não estiver na lista, então o\n",
    "# O RE resultante corresponderá ao segundo caractere.\n",
    "# \\ Número corresponde ao conteúdo do grupo do mesmo número.\n",
    "# \\ A corresponde apenas no início da string.\n",
    "# \\ Z corresponde apenas ao final da string.\n",
    "# \\ b corresponde à sequência vazia, mas apenas no início ou no final de uma palavra.\n",
    "# \\ B corresponde à sequência vazia, mas não no início ou no final de uma palavra.\n",
    "# \\ d corresponde a qualquer dígito decimal;equivalente ao conjunto [0-9] em\n",
    "# Padrões de bytes ou padrões de string com o sinalizador ASCII.\n",
    "# Em padrões de string sem a bandeira ASCII, ele corresponderá ao todo\n",
    "# gama de dígitos unicode.\n",
    "# \\ D corresponde a qualquer caractere não dígito;equivalente a [^\\ d].\n",
    "# \\ s corresponde a qualquer caractere em branco;equivalente a [\\ t \\ n \\ r \\ f \\ v] em\n",
    "# Padrões de bytes ou padrões de string com o sinalizador ASCII.\n",
    "# Em padrões de string sem a bandeira ASCII, ele corresponderá ao todo\n",
    "# Faixa de caracteres Unicode WhiteSpace.\n",
    "# \\ S corresponde a qualquer caractere não-branco;equivalente a [^\\ s].\n",
    "# \\ w corresponde a qualquer caráter alfanumérico;equivalente a [A-ZA-Z0-9_]\n",
    "# em padrões de bytes ou padrões de string com o sinalizador ASCII.\n",
    "# Em padrões de string sem a bandeira ASCII, ele corresponderá ao\n",
    "# Gama de caracteres alfanuméricos unicode (letras mais dígitos\n",
    "# mais sublinhado).\n",
    "# Com o Locale, ele corresponderá ao conjunto [0-9_] mais caracteres definidos\n",
    "# como letras para o local atual.\n",
    "# \\ W corresponde ao complemento de \\ w.\n",
    "# \\\\ corresponde a uma barra de barra literal.\n",
    "# \n",
    "# Este módulo exporta as seguintes funções:\n",
    "# Combine um padrão de expressão regular até o início de uma string.\n",
    "# Fullmatch corresponde a um padrão de expressão regular a toda uma string.\n",
    "# Pesquise uma string para a presença de um padrão.\n",
    "# Ocorrências sub -substitutas de um padrão encontrado em uma string.\n",
    "# subn o mesmo que sub, mas também retorna o número de substituições feitas.\n",
    "# Divida dividido uma corda pelas ocorrências de um padrão.\n",
    "# Encontre todas as ocorrências de um padrão em uma string.\n",
    "# Finditer retornar um iterador que produz um objeto de correspondência para cada correspondência.\n",
    "# Compilar compilar um padrão em um objeto padrão.\n",
    "# limpe o cache de expressão regular.\n",
    "# Revesticação de fuga Todos os não alfanuméricos em uma string."
   ]
  },
  {
   "cell_type": "code",
   "execution_count": null,
   "metadata": {},
   "outputs": [
    {
     "name": "stdout",
     "output_type": "stream",
     "text": [
      "mentira\n",
      "None\n"
     ]
    }
   ],
   "source": [
    "string = 'jp'\n",
    "pattern = c('jp')\n",
    "\n",
    "variavel = f(pattern, string)\n",
    "if variavel:\n",
    "    print('verdade')\n",
    "    \n",
    "else:\n",
    "    print('mentira')\n",
    "\n",
    "print(variavel)"
   ]
  },
  {
   "cell_type": "code",
   "execution_count": null,
   "metadata": {},
   "outputs": [],
   "source": [
    "def explorar_expressao_reg(texto):\n",
    "    padrao = r'\\bPython\\b' # \\b é um delimitador de palavra\n",
    "    if s(padrao, texto):\n",
    "        print('Encontrado!')\n",
    "    else:\n",
    "        print('Não encontrado!')"
   ]
  },
  {
   "cell_type": "code",
   "execution_count": 3,
   "metadata": {},
   "outputs": [
    {
     "name": "stdout",
     "output_type": "stream",
     "text": [
      "Encontrado!\n"
     ]
    }
   ],
   "source": [
    "texto_exemplo = 'Python é uma linguagem de programação'\n",
    "explorar_expressao_reg(texto_exemplo) # Encontrado!"
   ]
  },
  {
   "cell_type": "code",
   "execution_count": null,
   "metadata": {},
   "outputs": [],
   "source": [
    "# Regex, ou expressão regular, é uma sequência de caracteres que define um padrão de strings. \n",
    "# É uma ferramenta usada para encontrar ou validar padrões de texto em uma frase, documento ou qualquer outra entrada de caractere\n",
    "\n"
   ]
  }
 ],
 "metadata": {
  "kernelspec": {
   "display_name": "Python 3",
   "language": "python",
   "name": "python3"
  },
  "language_info": {
   "codemirror_mode": {
    "name": "ipython",
    "version": 3
   },
   "file_extension": ".py",
   "mimetype": "text/x-python",
   "name": "python",
   "nbconvert_exporter": "python",
   "pygments_lexer": "ipython3",
   "version": "3.13.0"
  }
 },
 "nbformat": 4,
 "nbformat_minor": 2
}
