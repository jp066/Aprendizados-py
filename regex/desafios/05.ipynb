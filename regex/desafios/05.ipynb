{
 "cells": [
  {
   "cell_type": "code",
   "execution_count": null,
   "metadata": {},
   "outputs": [],
   "source": [
    "# Desafio 5: Captura de Endereços de E-mail 📧\n",
    "# Crie uma Regex que encontre todos os e-mails em um texto. O e-mail deve:\n",
    "# ✔ Começar com letras, números, ponto, underline ou traço\n",
    "# ✔ Ter um @ seguido por um domínio válido\n",
    "# ✔ O domínio deve terminar em .com, .br, .net, .org, .edu, etc.\n",
    "# \n",
    "# Exemplo de entrada:\n",
    "'Meus contatos são email1@gmail.com, teste_123@empresa.org e contato@site.com.br.'\n",
    "# Saída esperada:\n",
    "# ✅ email1@gmail.com\n",
    "# ✅ teste_123@empresa.org\n",
    "# ✅ contato@site.com.br"
   ]
  },
  {
   "cell_type": "code",
   "execution_count": null,
   "metadata": {},
   "outputs": [
    {
     "name": "stdout",
     "output_type": "stream",
     "text": [
      "emails encontrados:\n",
      "- email1@gmail.com\n",
      "- teste_123@empresa.org\n",
      "- contato@site.com.br\n"
     ]
    }
   ],
   "source": [
    "from re import findall as f\n",
    "# Retorna todas as correspondências não sobrepostas do padrão pattern em string, como uma lista de strings ou tuplas.\n",
    "regex_email = r'[a-zA-Z0-9._-]+@[a-zA-Z0-9.-]+\\.[a-zA-Z]{2,}'\n",
    "\n",
    "def captura_emails(texto):\n",
    "    capturador = f(regex_email, texto)\n",
    "    if capturador:\n",
    "        print('emails encontrados:')\n",
    "        for email in capturador: # procura um email em cada objeto de capturador\n",
    "            print(f'- {email}')\n",
    "            \n",
    "    else:\n",
    "        print('nao foram encontrados') \n",
    "    \n",
    "texto = input('insira algo: ')\n",
    "captura_emails(texto)"
   ]
  }
 ],
 "metadata": {
  "kernelspec": {
   "display_name": "Python 3",
   "language": "python",
   "name": "python3"
  },
  "language_info": {
   "codemirror_mode": {
    "name": "ipython",
    "version": 3
   },
   "file_extension": ".py",
   "mimetype": "text/x-python",
   "name": "python",
   "nbconvert_exporter": "python",
   "pygments_lexer": "ipython3",
   "version": "3.13.0"
  }
 },
 "nbformat": 4,
 "nbformat_minor": 2
}
