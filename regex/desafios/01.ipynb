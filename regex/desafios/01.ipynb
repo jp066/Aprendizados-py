{
 "cells": [
  {
   "cell_type": "code",
   "execution_count": 1,
   "metadata": {},
   "outputs": [],
   "source": [
    "# Desafio 1: Validação de Placas de Carro (Brasil)\n",
    "# Crie uma expressão regular que valide placas de veículos brasileiros no formato AAA-1234 (modelo antigo) e AAA1B23 (modelo Mercosul)."
   ]
  },
  {
   "cell_type": "code",
   "execution_count": 4,
   "metadata": {},
   "outputs": [],
   "source": [
    "from re import fullmatch as fl"
   ]
  },
  {
   "cell_type": "code",
   "execution_count": 11,
   "metadata": {},
   "outputs": [
    {
     "name": "stderr",
     "output_type": "stream",
     "text": [
      "<>:4: SyntaxWarning: invalid escape sequence '\\d'\n",
      "<>:5: SyntaxWarning: invalid escape sequence '\\d'\n",
      "<>:4: SyntaxWarning: invalid escape sequence '\\d'\n",
      "<>:5: SyntaxWarning: invalid escape sequence '\\d'\n",
      "C:\\Users\\joaop\\AppData\\Local\\Temp\\ipykernel_988\\3935523393.py:4: SyntaxWarning: invalid escape sequence '\\d'\n",
      "  modelo_antigo = \"[A-Z]{3}-\\d{4}\" # três letras maiusculas, hifen e 4 digitos\n",
      "C:\\Users\\joaop\\AppData\\Local\\Temp\\ipykernel_988\\3935523393.py:5: SyntaxWarning: invalid escape sequence '\\d'\n",
      "  modelo_atual = \"[A-Z]{3}\\d[A-Z]\\d{2}\" # 3 letras maiusculas, um digito, uma letra maiuscula e 2 digitos\n"
     ]
    }
   ],
   "source": [
    "import re\n",
    "\n",
    "def validar_placa(placa):\n",
    "    modelo_antigo = \"[A-Z]{3}-\\d{4}\" # três letras maiusculas, hifen e 4 digitos\n",
    "    modelo_atual = \"[A-Z]{3}\\d[A-Z]\\d{2}\" # 3 letras maiusculas, um digito, uma letra maiuscula e 2 digitos\n",
    "    \n",
    "    if fl(modelo_antigo, placa) or fl(modelo_atual, placa):\n",
    "        print(f'{placa} é um modelo valido.')\n",
    "        \n",
    "    \n",
    "    else:\n",
    "        print(f'{placa} não é valido.')"
   ]
  },
  {
   "cell_type": "code",
   "execution_count": 12,
   "metadata": {},
   "outputs": [
    {
     "name": "stdout",
     "output_type": "stream",
     "text": [
      "abc-1514 não é valido.\n",
      "ABC-1514 é um modelo valido.\n",
      "ASW8M54 é um modelo valido.\n"
     ]
    }
   ],
   "source": [
    "validar_placa(\"abc-1514\")\n",
    "validar_placa(\"ABC-1514\")\n",
    "validar_placa(\"ASW8M54\")"
   ]
  }
 ],
 "metadata": {
  "kernelspec": {
   "display_name": "Python 3",
   "language": "python",
   "name": "python3"
  },
  "language_info": {
   "codemirror_mode": {
    "name": "ipython",
    "version": 3
   },
   "file_extension": ".py",
   "mimetype": "text/x-python",
   "name": "python",
   "nbconvert_exporter": "python",
   "pygments_lexer": "ipython3",
   "version": "3.13.0"
  }
 },
 "nbformat": 4,
 "nbformat_minor": 2
}
