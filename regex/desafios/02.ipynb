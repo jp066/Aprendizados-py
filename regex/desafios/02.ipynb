{
 "cells": [
  {
   "cell_type": "code",
   "execution_count": null,
   "metadata": {},
   "outputs": [],
   "source": [
    "# Desafio 2: Extração de Links de um Texto\n",
    "# Escreva uma Regex que consiga capturar URLs em um texto. Os links podem estar nos formatos:\n",
    "# \n",
    "# http://example.com\n",
    "# https://www.example.com/path?query=value\n",
    "# www.example.com\n",
    "# Exemplo de entrada:\n",
    "# Acesse https://openai.com para mais informações. Também veja www.google.com ou http://github.com.\n",
    "# Saída esperada:\n",
    "# ✅ https://openai.com\n",
    "# ✅ www.google.com\n",
    "# ✅ http://github.com"
   ]
  },
  {
   "cell_type": "code",
   "execution_count": 3,
   "metadata": {},
   "outputs": [
    {
     "name": "stdout",
     "output_type": "stream",
     "text": [
      "Nenhuma URL válida encontrada.\n"
     ]
    }
   ],
   "source": [
    "from re import findall as f\n",
    "# o findall, ao contrário do search, que buscará somente\n",
    "# até encontrar o primeiro, ele buscará todas as ocorrências.\n",
    "\n",
    "def captura_textos(url):\n",
    "    regex = r'https?://(?:[\\w.-]+)|www\\.(?:[\\w.-]+)'  \n",
    "    capturas = f(regex, url)\n",
    "\n",
    "    if capturas:\n",
    "        print('Textos capturados da URL:')\n",
    "        for captura in capturas:\n",
    "            print(f'✅ {captura}')\n",
    "    else:\n",
    "        print('Nenhuma URL válida encontrada.')\n",
    "\n",
    "url = input('Insira um texto: ')\n",
    "captura_textos(url=url)\n"
   ]
  }
 ],
 "metadata": {
  "kernelspec": {
   "display_name": "Python 3",
   "language": "python",
   "name": "python3"
  },
  "language_info": {
   "codemirror_mode": {
    "name": "ipython",
    "version": 3
   },
   "file_extension": ".py",
   "mimetype": "text/x-python",
   "name": "python",
   "nbconvert_exporter": "python",
   "pygments_lexer": "ipython3",
   "version": "3.13.0"
  }
 },
 "nbformat": 4,
 "nbformat_minor": 2
}
