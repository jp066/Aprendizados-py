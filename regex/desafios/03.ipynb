{
 "cells": [
  {
   "cell_type": "markdown",
   "metadata": {},
   "source": [
    ">Desafio 3: Captura de Datas no Formato dd/mm/aaaa<br>\n",
    "- Crie uma Regex que identifique datas no formato dd/mm/aaaa, garantindo que:<br>\n",
    "\n",
    "- O dia esteja entre 01 e 31<br>\n",
    "- O mês esteja entre 01 e 12<br>\n",
    "- O ano tenha 4 dígitos<br>\n",
    "\n",
    "Exemplos válidos:<br>\n",
    "✅ 01/01/2024<br>\n",
    "✅ 15/08/1999<br>\n",
    "✅ 31/12/2000<br>\n",
    "\n",
    "Exemplos inválidos:<br>\n",
    "❌ 32/01/2024 (dia inválido)<br>\n",
    "❌ 15/13/1999 (mês inválido)<br>\n",
    "❌ 5/08/2024 (formato errado)<br>"
   ]
  },
  {
   "cell_type": "code",
   "execution_count": 1,
   "metadata": {},
   "outputs": [
    {
     "name": "stdout",
     "output_type": "stream",
     "text": [
      "a data 21/05/2026 é valida\n"
     ]
    }
   ],
   "source": [
    "from re import match as m\n",
    "# usada para determinar se o início de uma string corresponde a um padrão de expressão regular.\n",
    "\n",
    "def captura_datas(data):\n",
    "    captura = r'^(0[1-9]|[12][0-9]|3[01])/(0[1-9]|1[0-2])/(\\d{4})$'\n",
    "    resultado = m(captura, data)\n",
    "    if resultado:\n",
    "        print(f'a data {data} é valida')\n",
    "    else:\n",
    "        print(f'a data {data} é invalida')\n",
    "\n",
    "data = input('insira a data (dd/mm/aaaa): ')\n",
    "captura_datas(data)"
   ]
  }
 ],
 "metadata": {
  "kernelspec": {
   "display_name": "Python 3",
   "language": "python",
   "name": "python3"
  },
  "language_info": {
   "codemirror_mode": {
    "name": "ipython",
    "version": 3
   },
   "file_extension": ".py",
   "mimetype": "text/x-python",
   "name": "python",
   "nbconvert_exporter": "python",
   "pygments_lexer": "ipython3",
   "version": "3.13.0"
  }
 },
 "nbformat": 4,
 "nbformat_minor": 2
}
