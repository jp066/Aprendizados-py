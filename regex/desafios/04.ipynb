{
 "cells": [
  {
   "cell_type": "code",
   "execution_count": 1,
   "metadata": {},
   "outputs": [],
   "source": [
    "# Desafio 4: Validação de Senhas Fortes 🔐\n",
    "# Crie uma Regex para validar senhas que atendam aos seguintes critérios:\n",
    "# ✔ Pelo menos 8 caracteres\n",
    "# ✔ Pelo menos uma letra maiúscula\n",
    "# ✔ Pelo menos uma letra minúscula\n",
    "# ✔ Pelo menos um número\n",
    "# ✔ Pelo menos um caractere especial (!@#$%^&*)\n",
    "# \n",
    "# Exemplos válidos:\n",
    "# ✅ Senha@2024\n",
    "# ✅ Xpto#123\n",
    "# ✅ Python$99\n",
    "# \n",
    "# Exemplos inválidos:\n",
    "# ❌ 12345678 (sem letra)\n",
    "# ❌ abcdefghi (sem número e caractere especial)\n",
    "# ❌ A1@ (menos de 8 caracteres)"
   ]
  },
  {
   "cell_type": "code",
   "execution_count": null,
   "metadata": {},
   "outputs": [
    {
     "name": "stdout",
     "output_type": "stream",
     "text": [
      "senha valida\n"
     ]
    }
   ],
   "source": [
    "from re import match as m\n",
    "# match - Se zero ou mais caracteres no início da string corresponderem ao padrão pattern da expressão regular, retorna um Match correspondente\n",
    "\n",
    "reg = r'^(?=.*[A-Z])(?=.*[a-z])(?=.*\\d)(?=.*[!@#$%^&*])[A-Za-z\\d!@#$%^&*]{8,}$'\n",
    "def validando_senhas(senha):\n",
    "    validador = m(reg, senha)\n",
    "    \n",
    "    if validador:\n",
    "        print('senha válida')\n",
    "    else:\n",
    "        print('senha inválida')\n",
    "    \n",
    "\n",
    "senha = input('digite sua senha: ')\n",
    "validando_senhas(senha)"
   ]
  }
 ],
 "metadata": {
  "kernelspec": {
   "display_name": "Python 3",
   "language": "python",
   "name": "python3"
  },
  "language_info": {
   "codemirror_mode": {
    "name": "ipython",
    "version": 3
   },
   "file_extension": ".py",
   "mimetype": "text/x-python",
   "name": "python",
   "nbconvert_exporter": "python",
   "pygments_lexer": "ipython3",
   "version": "3.13.0"
  }
 },
 "nbformat": 4,
 "nbformat_minor": 2
}
