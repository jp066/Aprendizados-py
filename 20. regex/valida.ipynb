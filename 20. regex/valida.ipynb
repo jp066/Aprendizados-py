{
 "cells": [
  {
   "cell_type": "code",
   "execution_count": 31,
   "metadata": {},
   "outputs": [],
   "source": [
    "import re"
   ]
  },
  {
   "cell_type": "code",
   "execution_count": 44,
   "metadata": {},
   "outputs": [],
   "source": [
    "def valida_contatos(contatos):\n",
    "    username_p = r'Nome: \\s*([A-Z][a-z]+(?:\\s[A-Z][a-z]+)?)'\n",
    "    email_p = r'Email:\\s*([a-zA-Z0-9._%+-]+@[a-zA-Z0-9.-]+\\.[a-zA-Z]{2,})'\n",
    "    telefone_p = r'Telefone: \\s*(\\(\\d{2}\\)\\s\\d{5}-\\d{4}|\\d{5}-\\d{4})'\n",
    "    \n",
    "    for contato in contatos:\n",
    "        match_nome = re.search(username_p, contato)\n",
    "        match_email = re.search(email_p, contato)\n",
    "        match_tel = re.search(telefone_p, contato)\n",
    "        \n",
    "        if match_nome and match_email and match_tel:\n",
    "            nome = match_nome.group(1)\n",
    "            email = match_email.group(1)\n",
    "            telefone = match_tel.group(1)\n",
    "            print(f'contato valido: nome: {nome} email: {email}telefone: {telefone}')\n",
    "        else:\n",
    "            print('invalido')"
   ]
  },
  {
   "cell_type": "code",
   "execution_count": 45,
   "metadata": {},
   "outputs": [],
   "source": [
    "contatos_ex = [\n",
    "    \"Nome: João Pedro, Email: jp0506@gmail.com, Telefone: (86) 99517-6012\",\n",
    "    \"Nome: João Arthur, Email: ja2525@gmail.com, Telefone: (86) 98847-8987\"\n",
    "]"
   ]
  },
  {
   "cell_type": "code",
   "execution_count": 46,
   "metadata": {},
   "outputs": [
    {
     "name": "stdout",
     "output_type": "stream",
     "text": [
      "contato valido: nome: Jo email: jp0506@gmail.comtelefone: (86) 99517-6012\n",
      "contato valido: nome: Jo email: ja2525@gmail.comtelefone: (86) 98847-8987\n"
     ]
    }
   ],
   "source": [
    "valida_contatos(contatos=contatos_ex)"
   ]
  }
 ],
 "metadata": {
  "kernelspec": {
   "display_name": "Python 3",
   "language": "python",
   "name": "python3"
  },
  "language_info": {
   "codemirror_mode": {
    "name": "ipython",
    "version": 3
   },
   "file_extension": ".py",
   "mimetype": "text/x-python",
   "name": "python",
   "nbconvert_exporter": "python",
   "pygments_lexer": "ipython3",
   "version": "3.13.0"
  }
 },
 "nbformat": 4,
 "nbformat_minor": 2
}
