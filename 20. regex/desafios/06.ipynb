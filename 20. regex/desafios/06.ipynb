{
 "cells": [
  {
   "cell_type": "markdown",
   "metadata": {},
   "source": [
    "> Desafio 6: Captura de Códigos de Produto\n",
    "Crie uma Regex para encontrar códigos de produtos no seguinte formato:\n",
    "✔ Três letras maiúsculas\n",
    "✔ Um hífen (-)\n",
    "✔ Três ou quatro números\n",
    "\n",
    "- Exemplos válidos:<br>\n",
    "✅ ABC-123<br>\n",
    "✅ XYZ-9876<br>\n",
    "✅ DEF-001<br>\n",
    "\n",
    "- Exemplos inválidos:<br>\n",
    "❌ AB-123 (menos de 3 letras)<br>\n",
    "❌ XYZ_1234 (uso de underscore _ em vez de hífen -)<br>\n",
    "❌ AAA-12345 (mais de 4 números)"
   ]
  },
  {
   "cell_type": "code",
   "execution_count": 1,
   "metadata": {},
   "outputs": [
    {
     "name": "stdout",
     "output_type": "stream",
     "text": [
      "invalidos\n"
     ]
    }
   ],
   "source": [
    "from re import findall as f\n",
    "\n",
    "regex_captura = r'[A-Z]{3}-\\d{3,4}'\n",
    "\n",
    "def captura_codigos(entrada):\n",
    "    capturador = f(regex_captura, entrada)\n",
    "    if capturador:\n",
    "        print('lista de produtos válidos:')\n",
    "        for codigo in capturador:\n",
    "            print(f'° {codigo} - Válido')\n",
    "    else:\n",
    "        print('invalidos')   \n",
    "        \n",
    "\n",
    "\n",
    "entrada = input('digite o codigo: ')\n",
    "captura_codigos(entrada)"
   ]
  }
 ],
 "metadata": {
  "kernelspec": {
   "display_name": "Python 3",
   "language": "python",
   "name": "python3"
  },
  "language_info": {
   "codemirror_mode": {
    "name": "ipython",
    "version": 3
   },
   "file_extension": ".py",
   "mimetype": "text/x-python",
   "name": "python",
   "nbconvert_exporter": "python",
   "pygments_lexer": "ipython3",
   "version": "3.13.0"
  }
 },
 "nbformat": 4,
 "nbformat_minor": 2
}
