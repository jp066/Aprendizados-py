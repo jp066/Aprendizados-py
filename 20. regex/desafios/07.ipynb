{
 "cells": [
  {
   "cell_type": "markdown",
   "metadata": {},
   "source": [
    "- implemente uma função que conte o numero de palavras em um texto. <br> considere palavras como sequencias de caracteres alfabeticos (ou alfanumericos) \n",
    "<br> que são separadas por espaços em branco ou pontuação.\n",
    "import re"
   ]
  },
  {
   "cell_type": "code",
   "execution_count": 1,
   "metadata": {},
   "outputs": [],
   "source": [
    "import re\n",
    "def contador_palavras(texto):\n",
    "    padrao_texto = r'\\b\\w+\\b'\n",
    "    count_palavras = re.findall(padrao_texto, texto)\n",
    "    return len(count_palavras)"
   ]
  },
  {
   "cell_type": "code",
   "execution_count": 2,
   "metadata": {},
   "outputs": [
    {
     "name": "stdout",
     "output_type": "stream",
     "text": [
      "5\n"
     ]
    }
   ],
   "source": [
    "texto = 'ola python, me chamo jp.'\n",
    "print(contador_palavras(texto=texto))"
   ]
  }
 ],
 "metadata": {
  "kernelspec": {
   "display_name": "Python 3",
   "language": "python",
   "name": "python3"
  },
  "language_info": {
   "codemirror_mode": {
    "name": "ipython",
    "version": 3
   },
   "file_extension": ".py",
   "mimetype": "text/x-python",
   "name": "python",
   "nbconvert_exporter": "python",
   "pygments_lexer": "ipython3",
   "version": "3.13.0"
  }
 },
 "nbformat": 4,
 "nbformat_minor": 2
}
