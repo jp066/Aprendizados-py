{
 "cells": [
  {
   "cell_type": "markdown",
   "metadata": {},
   "source": [
    "# Walrus\n",
    "-  esse operador é usado para atribuições de variáveis dentro de expressões.\n",
    "- é usado com o operador :=\n",
    "- permite que você atribua um valor a uma variável enquanto avalia a expressão.\n",
    "- cria uma variável \"temporaria\"."
   ]
  },
  {
   "cell_type": "code",
   "execution_count": 2,
   "metadata": {},
   "outputs": [
    {
     "data": {
      "text/plain": [
       "[]"
      ]
     },
     "execution_count": 2,
     "metadata": {},
     "output_type": "execute_result"
    }
   ],
   "source": [
    "# filtrar numeros maiores que 10\n",
    "numeros = [5,4,6,7,9]\n",
    "numero_maiores_que_10 = [n for n in numeros if(maior := n) > 10]\n",
    "numero_maiores_que_10"
   ]
  },
  {
   "cell_type": "code",
   "execution_count": null,
   "metadata": {},
   "outputs": [
    {
     "data": {
      "text/plain": [
       "['Olá mundo',\n",
       " 'Esta é uma linha de teste',\n",
       " 'Python é facil',\n",
       " 'Ruby é interessante']"
      ]
     },
     "execution_count": 3,
     "metadata": {},
     "output_type": "execute_result"
    }
   ],
   "source": [
    "linhas_processadas = []\n",
    "with open(\"texto.txt\", \"r\", encoding=\"utf-8\") as arquivo:\n",
    "    for linha in arquivo:\n",
    "        if(linha_limpa := linha.strip()): # linha_limpa foi criada e consumida na mesma linha, tirando a necessidade de ter lhe inicializada antes.\n",
    "            linhas_processadas.append(linha_limpa)\n",
    "            \n",
    "linhas_processadas"
   ]
  }
 ],
 "metadata": {
  "kernelspec": {
   "display_name": "Python 3",
   "language": "python",
   "name": "python3"
  },
  "language_info": {
   "codemirror_mode": {
    "name": "ipython",
    "version": 3
   },
   "file_extension": ".py",
   "mimetype": "text/x-python",
   "name": "python",
   "nbconvert_exporter": "python",
   "pygments_lexer": "ipython3",
   "version": "3.13.0"
  }
 },
 "nbformat": 4,
 "nbformat_minor": 2
}
