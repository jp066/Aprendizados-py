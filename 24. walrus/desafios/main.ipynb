{
 "cells": [
  {
   "cell_type": "markdown",
   "metadata": {},
   "source": [
    "1. Contar Comprimento de Strings\n",
    "Dada uma lista de palavras, use o operador Walrus para imprimir cada palavra junto com seu comprimento dentro de um loop.\n",
    "\n",
    "2. Filtrar e Exibir Números Positivos\n",
    "Dada uma lista de números inteiros, use Walrus para imprimir apenas os números positivos e armazená-los em uma nova lista ao mesmo tempo.\n",
    "\n",
    "3. Soma Acumulada\n",
    "Use Walrus para calcular a soma acumulada dos elementos de uma lista e imprimir cada soma parcial enquanto itera sobre os valores.\n",
    "\n",
    "4. Maior Número Encontrado Até Agora\n",
    "Dada uma lista de números, use Walrus para armazenar o maior número encontrado enquanto percorre a lista e exibir a evolução do maior valor.\n",
    "\n",
    "5. Contador de Palavras Longas\n",
    "Dada uma lista de palavras, use Walrus para contar e imprimir apenas aquelas com mais de 6 letras enquanto percorre a lista."
   ]
  },
  {
   "cell_type": "code",
   "execution_count": 16,
   "metadata": {},
   "outputs": [
    {
     "name": "stdout",
     "output_type": "stream",
     "text": [
      "a palavra olaaa tem 5 letras\n",
      "a palavra cão tem 3 letras\n",
      "a palavra gato tem 4 letras\n"
     ]
    }
   ],
   "source": [
    "# 1\n",
    "def contar_comprimento(palavras):\n",
    "    resultados =[]\n",
    "    for i in palavras:\n",
    "        resultados.append(f'a palavra {i} tem {(peso := len(i))} letras')\n",
    "    return resultados # esse metódo conta\n",
    "\n",
    "palavras = ['olaaa', 'cão', 'gato']\n",
    "c = contar_comprimento(palavras)\n",
    "for resultado in c:\n",
    "    print(resultado)"
   ]
  },
  {
   "cell_type": "code",
   "execution_count": 22,
   "metadata": {},
   "outputs": [
    {
     "name": "stdout",
     "output_type": "stream",
     "text": [
      "somente são positivos [4, 2, 7]\n"
     ]
    }
   ],
   "source": [
    "# 2\n",
    "# [saida for item in iterável if condição]\n",
    "def filtrar_exibir(nums):\n",
    "    positivos = [num for num in nums if(positivos:= num)>0]\n",
    "    return f'somente são positivos {positivos }'\n",
    "\n",
    "nums = [-5, 4, -3, 2, 0, 7]\n",
    "f = filtrar_exibir(nums)\n",
    "print(f)"
   ]
  },
  {
   "cell_type": "code",
   "execution_count": 25,
   "metadata": {},
   "outputs": [
    {
     "name": "stdout",
     "output_type": "stream",
     "text": [
      "1\n",
      "3\n",
      "6\n",
      "10\n",
      "15\n"
     ]
    }
   ],
   "source": [
    "# 3 - Use Walrus para calcular a soma acumulada dos elementos de uma lista e imprimir cada soma parcial \n",
    "# enquanto itera sobre os valores.\n",
    "\n",
    "def soma_acumulada(lista):\n",
    "    soma =0\n",
    "    acumuladas = []\n",
    "    for num in lista:\n",
    "        acumuladas.append(soma := soma + num)\n",
    "    return acumuladas\n",
    "\n",
    "\n",
    "lista = [1,2,3,4,5]\n",
    "ss = soma_acumulada(lista)\n",
    "for s in ss:\n",
    "    print(s)"
   ]
  }
 ],
 "metadata": {
  "kernelspec": {
   "display_name": "Python 3",
   "language": "python",
   "name": "python3"
  },
  "language_info": {
   "codemirror_mode": {
    "name": "ipython",
    "version": 3
   },
   "file_extension": ".py",
   "mimetype": "text/x-python",
   "name": "python",
   "nbconvert_exporter": "python",
   "pygments_lexer": "ipython3",
   "version": "3.13.0"
  }
 },
 "nbformat": 4,
 "nbformat_minor": 2
}
