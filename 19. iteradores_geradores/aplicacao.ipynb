{
 "cells": [
  {
   "cell_type": "code",
   "execution_count": 5,
   "metadata": {},
   "outputs": [],
   "source": [
    "class VendaIterator:\n",
    "    def __init__(self, arquivo):\n",
    "        self.arquivo = arquivo # parametro que vai ser passado como um arquivo\n",
    "        self.file = open(arquivo, 'r', encoding='utf-8')\n",
    "        \n",
    "        \n",
    "    def __iter__(self):\n",
    "        return self # \n",
    "    \n",
    "    \n",
    "    def __next__(self):\n",
    "        linha = self.file.readline()\n",
    "        if not linha: \n",
    "            self.file.close()\n",
    "            raise StopIteration\n",
    "        categoria, valor = linha.strip().split(',') # separa a linha em duas partes\n",
    "        return categoria, float(valor)"
   ]
  },
  {
   "cell_type": "code",
   "execution_count": 6,
   "metadata": {},
   "outputs": [],
   "source": [
    "def gerador_soma_vendas(arquivo):\n",
    "    total = 0\n",
    "    for categoria, valor in VendaIterator(arquivo):\n",
    "        total += valor\n",
    "        yield categoria, valor, total"
   ]
  },
  {
   "cell_type": "code",
   "execution_count": null,
   "metadata": {},
   "outputs": [
    {
     "name": "stdout",
     "output_type": "stream",
     "text": [
      "'arros' : 3.0 : (3.0)\n",
      "'carne' : 59.0 : (62.0)\n",
      "'refri' : 8.0 : (70.0)\n",
      "'arros' : 1\n",
      "'carne' : 1\n",
      "'refri' : 1\n"
     ]
    }
   ],
   "source": [
    "contagem_vendas = {} # dicionario vazio\n",
    "arquivo = 'vendas.txt'\n",
    "for categoria, valor, total in gerador_soma_vendas(arquivo):\n",
    "    print(f'{categoria} : {valor} : ({total})')\n",
    "    \n",
    "    if categoria not in contagem_vendas:\n",
    "        contagem_vendas[categoria] = 0\n",
    "    contagem_vendas[categoria] += 1\n",
    "    \n",
    "    \n",
    "for categoria, contagem in contagem_vendas.items():\n",
    "    print(f'{categoria} : {contagem}')"
   ]
  }
 ],
 "metadata": {
  "kernelspec": {
   "display_name": "Python 3",
   "language": "python",
   "name": "python3"
  },
  "language_info": {
   "codemirror_mode": {
    "name": "ipython",
    "version": 3
   },
   "file_extension": ".py",
   "mimetype": "text/x-python",
   "name": "python",
   "nbconvert_exporter": "python",
   "pygments_lexer": "ipython3",
   "version": "3.13.0"
  }
 },
 "nbformat": 4,
 "nbformat_minor": 2
}
