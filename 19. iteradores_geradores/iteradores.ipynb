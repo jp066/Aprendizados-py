{
 "cells": [
  {
   "cell_type": "code",
   "execution_count": null,
   "metadata": {},
   "outputs": [],
   "source": [
    "class Contador:\n",
    "    def __init__(self, limite):\n",
    "        self.limite = limite \n",
    "        self.atual = 1\n",
    "        \n",
    "        \n",
    "    def __iter__(self): # retronar o proprio objeto para ser iteravel\n",
    "        return self\n",
    "    \n",
    "    \n",
    "    def __next__(self): # o next utiliza do objeto iterado para retornar o valor\n",
    "        if self.atual > self.limite:\n",
    "            raise StopIteration # se o valor atual for maior que o limite, para a iteração\n",
    "        else:\n",
    "            valor = self.atual # valor é igual ao atual\n",
    "            self.atual += 1 # incrementa o valor\n",
    "            return valor"
   ]
  },
  {
   "cell_type": "code",
   "execution_count": 3,
   "metadata": {},
   "outputs": [
    {
     "name": "stdout",
     "output_type": "stream",
     "text": [
      "1\n",
      "2\n",
      "3\n",
      "4\n",
      "5\n",
      "6\n",
      "7\n",
      "8\n",
      "9\n",
      "10\n"
     ]
    }
   ],
   "source": [
    "contador = Contador(10)\n",
    "for num in contador:\n",
    "    print(num)"
   ]
  },
  {
   "cell_type": "code",
   "execution_count": 12,
   "metadata": {},
   "outputs": [
    {
     "name": "stdout",
     "output_type": "stream",
     "text": [
      "1\n",
      "4\n",
      "7\n",
      "10\n"
     ]
    }
   ],
   "source": [
    "for item in range(1, 11, 3):\n",
    "    print(item)"
   ]
  },
  {
   "cell_type": "code",
   "execution_count": 13,
   "metadata": {},
   "outputs": [
    {
     "name": "stdout",
     "output_type": "stream",
     "text": [
      "0 maça\n",
      "1 banana\n",
      "2 pera\n",
      "3 uva\n",
      "4 laranja\n"
     ]
    }
   ],
   "source": [
    "frutas = ['maça', 'banana', 'pera', 'uva', 'laranja']\n",
    "for indice, fruta in enumerate(frutas):\n",
    "    print(indice, fruta)"
   ]
  },
  {
   "cell_type": "code",
   "execution_count": 14,
   "metadata": {},
   "outputs": [
    {
     "name": "stdout",
     "output_type": "stream",
     "text": [
      "Ana 23\n",
      "Maria 45\n",
      "José 34\n",
      "Pedro 56\n"
     ]
    }
   ],
   "source": [
    "nomes = ['Ana', 'Maria', 'José', 'Pedro']\n",
    "idades = [23, 45, 34, 56]\n",
    "for nome, idade in zip(nomes, idades):\n",
    "    print(nome, idade)\n",
    "    "
   ]
  }
 ],
 "metadata": {
  "kernelspec": {
   "display_name": "Python 3",
   "language": "python",
   "name": "python3"
  },
  "language_info": {
   "codemirror_mode": {
    "name": "ipython",
    "version": 3
   },
   "file_extension": ".py",
   "mimetype": "text/x-python",
   "name": "python",
   "nbconvert_exporter": "python",
   "pygments_lexer": "ipython3",
   "version": "3.13.0"
  }
 },
 "nbformat": 4,
 "nbformat_minor": 2
}
