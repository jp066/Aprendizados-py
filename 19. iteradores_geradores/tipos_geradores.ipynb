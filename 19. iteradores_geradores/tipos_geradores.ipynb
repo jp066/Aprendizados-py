{
 "cells": [
  {
   "cell_type": "code",
   "execution_count": 1,
   "metadata": {},
   "outputs": [
    {
     "name": "stdout",
     "output_type": "stream",
     "text": [
      "0\n",
      "1\n",
      "4\n",
      "9\n",
      "16\n",
      "25\n",
      "36\n",
      "49\n",
      "64\n",
      "81\n"
     ]
    }
   ],
   "source": [
    "# gerador de expressão\n",
    "quadrados = (x ** 2 for x in range(10))\n",
    "for quadrado in quadrados:\n",
    "    print(quadrado)"
   ]
  },
  {
   "cell_type": "code",
   "execution_count": null,
   "metadata": {},
   "outputs": [],
   "source": [
    "# iterador infinito\n",
    "def contador_infinito():\n",
    "    n = 0\n",
    "    while True:\n",
    "        yield n\n",
    "        n += 1\n",
    "contador = contador_infinito()\n",
    "for _ in range(10):\n",
    "    print(next(contador))"
   ]
  },
  {
   "cell_type": "code",
   "execution_count": 1,
   "metadata": {},
   "outputs": [
    {
     "name": "stdout",
     "output_type": "stream",
     "text": [
      "1\n",
      "3\n",
      "6\n"
     ]
    }
   ],
   "source": [
    "# coleta de valores com send()\n",
    "def gerador_soma():\n",
    "    total = 0\n",
    "    while True:\n",
    "        valor = yield total # retorna o total e aguarda um novo valor\n",
    "        if valor is not None:\n",
    "            total += valor\n",
    "            \n",
    "soma = gerador_soma()\n",
    "next(soma)\n",
    "print(soma.send(1))\n",
    "print(soma.send(2))\n",
    "print(soma.send(3))"
   ]
  },
  {
   "cell_type": "code",
   "execution_count": 3,
   "metadata": {},
   "outputs": [
    {
     "name": "stdout",
     "output_type": "stream",
     "text": [
      "Valor recebido: 10\n"
     ]
    }
   ],
   "source": [
    "# tratamento de exceções\n",
    "def gerador_excessao():\n",
    "    try:\n",
    "        while True:\n",
    "            valor = yield \n",
    "            print('Valor recebido:', valor)\n",
    "    except ValueError:\n",
    "        print('Erro: valor inválido')\n",
    "        \n",
    "g = gerador_excessao()\n",
    "next(g)\n",
    "g.send(10)"
   ]
  },
  {
   "cell_type": "code",
   "execution_count": 4,
   "metadata": {},
   "outputs": [
    {
     "name": "stdout",
     "output_type": "stream",
     "text": [
      "5\n",
      "7\n",
      "9\n",
      "11\n",
      "13\n"
     ]
    }
   ],
   "source": [
    "# cascata de geradores\n",
    "def multiplicar_po_dois(iterable):\n",
    "    for i in iterable:\n",
    "        yield i * 2\n",
    "        \n",
    "        \n",
    "def adicionar_cinco(iterable):\n",
    "    for i in iterable:\n",
    "        yield i + 5\n",
    "        \n",
    "        \n",
    "numero = range(5)\n",
    "resultado = adicionar_cinco(multiplicar_po_dois(numero))\n",
    "for r in resultado:\n",
    "    print(r)"
   ]
  }
 ],
 "metadata": {
  "kernelspec": {
   "display_name": "Python 3",
   "language": "python",
   "name": "python3"
  },
  "language_info": {
   "codemirror_mode": {
    "name": "ipython",
    "version": 3
   },
   "file_extension": ".py",
   "mimetype": "text/x-python",
   "name": "python",
   "nbconvert_exporter": "python",
   "pygments_lexer": "ipython3",
   "version": "3.13.0"
  }
 },
 "nbformat": 4,
 "nbformat_minor": 2
}
