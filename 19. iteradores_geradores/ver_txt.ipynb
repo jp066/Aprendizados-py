{
 "cells": [
  {
   "cell_type": "code",
   "execution_count": null,
   "metadata": {},
   "outputs": [],
   "source": [
    "def linhas_numeros_palavras(arquivo, numero):\n",
    "    with open(arquivo, 'r', encoding='utf-8') as file: # essa linha abre o arquivo e o fecha automaticamente ao final do bloco with, de acordo com o as especificado.\n",
    "        for linha in file:\n",
    "            if len(linha.split()) == numero:\n",
    "                yield linha"
   ]
  },
  {
   "cell_type": "code",
   "execution_count": 3,
   "metadata": {},
   "outputs": [
    {
     "name": "stdout",
     "output_type": "stream",
     "text": [
      "python\n",
      "\n",
      "ruby\n",
      "\n",
      "oiiii\n"
     ]
    }
   ],
   "source": [
    "arquivo = 'arq.txt'\n",
    "numero_palavras = 1\n",
    "for linhas in linhas_numeros_palavras(arquivo, numero_palavras):\n",
    "    print(linhas)"
   ]
  }
 ],
 "metadata": {
  "kernelspec": {
   "display_name": "Python 3",
   "language": "python",
   "name": "python3"
  },
  "language_info": {
   "codemirror_mode": {
    "name": "ipython",
    "version": 3
   },
   "file_extension": ".py",
   "mimetype": "text/x-python",
   "name": "python",
   "nbconvert_exporter": "python",
   "pygments_lexer": "ipython3",
   "version": "3.13.0"
  }
 },
 "nbformat": 4,
 "nbformat_minor": 2
}
