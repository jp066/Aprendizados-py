{
 "cells": [
  {
   "cell_type": "code",
   "execution_count": 8,
   "metadata": {},
   "outputs": [],
   "source": [
    "class NomeComLetra:\n",
    "    def __init__(self, nome, letra):\n",
    "        self.nome = nome\n",
    "        self.letra = letra\n",
    "        self.index = 0 \n",
    "        \n",
    "    \n",
    "    def __iter__(self): # o iter serve para que a classe seja iteravel\n",
    "        return self\n",
    "    \n",
    "    \n",
    "    def __next__(self):\n",
    "        while self.index < len(self.nome):\n",
    "            nome = self.nome[self.index]\n",
    "            self.index += 1\n",
    "            if nome.startswith(self.letra):\n",
    "                return nome\n",
    "        raise StopIteration()\n",
    "            "
   ]
  },
  {
   "cell_type": "code",
   "execution_count": 12,
   "metadata": {},
   "outputs": [
    {
     "name": "stdout",
     "output_type": "stream",
     "text": [
      "Arthur\n"
     ]
    }
   ],
   "source": [
    "lista_nome = ['Lucas', 'Arthur', 'Bob', 'Caua']\n",
    "letra = 'A'\n",
    "iter_nome = NomeComLetra(lista_nome, letra)\n",
    "\n",
    "for nome in iter_nome:\n",
    "    print(nome)"
   ]
  }
 ],
 "metadata": {
  "kernelspec": {
   "display_name": "Python 3",
   "language": "python",
   "name": "python3"
  },
  "language_info": {
   "codemirror_mode": {
    "name": "ipython",
    "version": 3
   },
   "file_extension": ".py",
   "mimetype": "text/x-python",
   "name": "python",
   "nbconvert_exporter": "python",
   "pygments_lexer": "ipython3",
   "version": "3.13.0"
  }
 },
 "nbformat": 4,
 "nbformat_minor": 2
}
