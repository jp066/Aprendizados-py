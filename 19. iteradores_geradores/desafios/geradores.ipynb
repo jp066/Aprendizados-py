{
 "cells": [
  {
   "cell_type": "code",
   "execution_count": null,
   "metadata": {},
   "outputs": [],
   "source": [
    "# Fácil: Crie um gerador que retorne os números de 1 a 10."
   ]
  },
  {
   "cell_type": "code",
   "execution_count": null,
   "metadata": {},
   "outputs": [],
   "source": [
    "# Médio: Desenvolva um gerador que simule lançamentos de um dado, gerando valores aleatórios entre 1 e 6 infinitamente.\n"
   ]
  },
  {
   "cell_type": "code",
   "execution_count": null,
   "metadata": {},
   "outputs": [],
   "source": [
    "# Difícil: Implemente um gerador que retorne os elementos de uma lista em ordem alternada (exemplo: primeiro elemento, último, segundo, penúltimo, etc.)."
   ]
  }
 ],
 "metadata": {
  "language_info": {
   "name": "python"
  }
 },
 "nbformat": 4,
 "nbformat_minor": 2
}
