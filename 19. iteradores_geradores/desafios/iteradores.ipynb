{
 "cells": [
  {
   "cell_type": "code",
   "execution_count": 1,
   "metadata": {},
   "outputs": [
    {
     "name": "stdout",
     "output_type": "stream",
     "text": [
      "10\n",
      "9\n",
      "8\n",
      "7\n",
      "6\n",
      "5\n",
      "4\n",
      "3\n",
      "2\n",
      "1\n"
     ]
    }
   ],
   "source": [
    "# Fácil: Crie um iterador que percorra uma lista e retorne os elementos ao contrário.\n",
    "class Revert_list:\n",
    "    def __init__(self, lista):\n",
    "        self.lista = lista # 'lista' é um parâmetro passado para o construtor\n",
    "        self.index = len(lista) # 'index' é um atributo interno da classe, inicializado com o comprimento da lista\n",
    "        \n",
    "    def __iter__(self):\n",
    "        return self # retorna o próprio objeto iterador\n",
    "    \n",
    "    def __next__(self):\n",
    "        if self.index == 0:\n",
    "            raise StopIteration # se o index for 0, então para a iteração\n",
    "        self.index = self.index - 1 # decrementa o index\n",
    "        return self.lista[self.index] # retorna o elemento da lista na posição do index\n",
    "\n",
    "# 'lista' é passado como argumento para o construtor\n",
    "revert = Revert_list([1, 2, 3, 4, 5, 6, 7, 8, 9, 10]) # instancia o objeto 'revert', que recebe os valores da lista pois é um iterador\n",
    "for element in revert:\n",
    "    print(element) # imprime os elementos da lista na ordem inversa"
   ]
  },
  {
   "cell_type": "code",
   "execution_count": 3,
   "metadata": {},
   "outputs": [
    {
     "name": "stdout",
     "output_type": "stream",
     "text": [
      "0\n",
      "1\n",
      "1\n",
      "2\n",
      "3\n",
      "5\n",
      "8\n",
      "13\n",
      "21\n",
      "34\n"
     ]
    }
   ],
   "source": [
    "# Médio: Desenvolva um iterador que gere os números da sequência de Fibonacci até um limite especificado.\n",
    "# sequência numérica em que cada termo é a soma dos dois termos anteriores, ex: 0, 1, 1, 2, 3, 5, 8, 13, 21, 34, ...\n",
    "class Fibonacci_iter:\n",
    "    def __init__(self, limite): # limite é parametro por que ele precisa ser inicializado com a classe.\n",
    "        self.limite = limite # 'limite' é um parâmetro passado para o construtor\n",
    "        self.inicio = 0\n",
    "        self.proximo = 1\n",
    "        self.count = 0\n",
    "        \n",
    "        \n",
    "    def __iter__(self):\n",
    "        return self\n",
    "    \n",
    "    \n",
    "    def __next__(self):\n",
    "        if self.count >= self.limite:\n",
    "            raise StopIteration\n",
    "        self.count += 1\n",
    "        retorno = self.inicio # retorno recebe o valor de inicio\n",
    "        self.inicio, self.proximo = self.proximo, self.inicio + self.proximo # inicio recebe o valor de proximo e proximo recebe a soma de inicio e proximo\n",
    "        return retorno\n",
    "    \n",
    "    \n",
    "fibonacci = Fibonacci_iter(10) # instancia o objeto 'fibonacci', que recebe o limite de 10\n",
    "\n",
    "for elemente in fibonacci:\n",
    "    print(elemente) # imprime os elementos da sequência de Fibonacci      "
   ]
  },
  {
   "cell_type": "code",
   "execution_count": 4,
   "metadata": {},
   "outputs": [
    {
     "name": "stdout",
     "output_type": "stream",
     "text": [
      "1\n",
      "2\n",
      "4\n",
      "5\n",
      "7\n",
      "8\n",
      "10\n",
      "11\n",
      "13\n",
      "14\n",
      "16\n",
      "17\n",
      "19\n",
      "20\n",
      "22\n",
      "23\n",
      "25\n",
      "26\n",
      "28\n",
      "29\n",
      "30\n"
     ]
    }
   ],
   "source": [
    "# Difícil:  Implemente um iterador que percorra uma matriz (lista de listas) linha por linha, ignorando colunas vazias.\n",
    "class Matrix_iter:\n",
    "    def __init__(self, matrix):\n",
    "        self.matrix = matrix # 'matrix' é um parâmetro passado para o construtor\n",
    "        self.row = 0\n",
    "        self.col = 0\n",
    "        self.rows = len(matrix)\n",
    "        self.cols = len(matrix[0])\n",
    "        \n",
    "        \n",
    "    def __iter__(self):\n",
    "        return self\n",
    "    \n",
    "    \n",
    "    def __next__(self):\n",
    "        if self.row >= self.rows:\n",
    "            raise StopIteration\n",
    "        retorno = self.matrix[self.row][self.col] # retorno recebe o valor da matriz na linha e coluna\n",
    "        self.col += 1\n",
    "        if self.col >= self.cols: # se a coluna for maior ou igual ao número de colunas\n",
    "            self.row += 1 # incrementa a linha\n",
    "            self.col = 0 # coluna recebe 0\n",
    "            while self.row < self.rows and self.cols == 0: # siginifica que a coluna está vazia\n",
    "                self.row += 1\n",
    "            if self.row < self.rows: # se a linha for menor que o número de linhas\n",
    "                retorno = self.matrix[self.row][self.col] # retorno recebe o valor da matriz na linha e coluna\n",
    "                self.col += 1\n",
    "        return retorno\n",
    "    \n",
    "    \n",
    "matrix = [[1, 2, 3], [4, 5, 6], [7, 8, 9], [10, 11, 12], [13, 14, 15], [16, 17, 18], [19, 20, 21], [22, 23, 24], [25, 26, 27], [28, 29, 30]] # matriz de 10 linhas e 3 colunas\n",
    "matrix_iter = Matrix_iter(matrix) # instancia o objeto 'matrix_iter', que recebe a matriz\n",
    "\n",
    "\n",
    "for element in matrix_iter:\n",
    "    print(element) # imprime os elementos da matriz linha por linha, ignorando colunas vazias"
   ]
  }
 ],
 "metadata": {
  "kernelspec": {
   "display_name": "Python 3",
   "language": "python",
   "name": "python3"
  },
  "language_info": {
   "codemirror_mode": {
    "name": "ipython",
    "version": 3
   },
   "file_extension": ".py",
   "mimetype": "text/x-python",
   "name": "python",
   "nbconvert_exporter": "python",
   "pygments_lexer": "ipython3",
   "version": "3.13.0"
  }
 },
 "nbformat": 4,
 "nbformat_minor": 2
}
