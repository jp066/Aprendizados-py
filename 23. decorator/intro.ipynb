{
 "cells": [
  {
   "cell_type": "markdown",
   "metadata": {},
   "source": [
    "# Decorator:\n",
    "- modificam ou estendem o comportamento de funções existentes de forma reutilizavel.\n",
    "- adicionam funcionalidades a funções existentes sem modificar o código diretamente."
   ]
  },
  {
   "cell_type": "code",
   "execution_count": 4,
   "metadata": {},
   "outputs": [
    {
     "name": "stdout",
     "output_type": "stream",
     "text": [
      "antes da função\n",
      "dentro da função\n",
      "depois da função\n"
     ]
    }
   ],
   "source": [
    "from modulo import meu_decorador\n",
    "\n",
    "@meu_decorador\n",
    "def minha_funcao():\n",
    "    print('dentro da função')\n",
    "    \n",
    "minha_funcao()"
   ]
  }
 ],
 "metadata": {
  "kernelspec": {
   "display_name": "Python 3",
   "language": "python",
   "name": "python3"
  },
  "language_info": {
   "codemirror_mode": {
    "name": "ipython",
    "version": 3
   },
   "file_extension": ".py",
   "mimetype": "text/x-python",
   "name": "python",
   "nbconvert_exporter": "python",
   "pygments_lexer": "ipython3",
   "version": "3.13.0"
  }
 },
 "nbformat": 4,
 "nbformat_minor": 2
}
